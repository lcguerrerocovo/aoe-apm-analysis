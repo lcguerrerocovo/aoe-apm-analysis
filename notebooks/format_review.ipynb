{
 "cells": [
  {
   "cell_type": "code",
   "execution_count": 6,
   "metadata": {},
   "outputs": [
    {
     "data": {
      "text/plain": [
       "<module 'utils.aoe_rec' from '/Users/luisg/Development/personal/aoe-apm-analysis/utils/aoe_rec.py'>"
      ]
     },
     "execution_count": 6,
     "metadata": {},
     "output_type": "execute_result"
    }
   ],
   "source": [
    "import importlib\n",
    "from utils import viz, aoe_rec\n",
    "importlib.reload(viz)\n",
    "importlib.reload(aoe_rec)"
   ]
  },
  {
   "cell_type": "code",
   "execution_count": 7,
   "metadata": {},
   "outputs": [
    {
     "name": "stderr",
     "output_type": "stream",
     "text": [
      "/var/folders/n1/mk1cbyv53ls9cgg7c0pbrmnr0000gn/T/ipykernel_95828/2882857389.py:5: FutureWarning: Passing literal json to 'read_json' is deprecated and will be removed in a future version. To read from a literal string, wrap it in a 'StringIO' object.\n",
      "  df = pd.read_json(jsonFile)\n"
     ]
    },
    {
     "data": {
      "text/html": [
       "<div>\n",
       "<style scoped>\n",
       "    .dataframe tbody tr th:only-of-type {\n",
       "        vertical-align: middle;\n",
       "    }\n",
       "\n",
       "    .dataframe tbody tr th {\n",
       "        vertical-align: top;\n",
       "    }\n",
       "\n",
       "    .dataframe thead th {\n",
       "        text-align: right;\n",
       "    }\n",
       "</style>\n",
       "<table border=\"1\" class=\"dataframe\">\n",
       "  <thead>\n",
       "    <tr style=\"text-align: right;\">\n",
       "      <th></th>\n",
       "      <th>timestamp</th>\n",
       "      <th>type</th>\n",
       "      <th>payload</th>\n",
       "      <th>player</th>\n",
       "      <th>position</th>\n",
       "    </tr>\n",
       "  </thead>\n",
       "  <tbody>\n",
       "    <tr>\n",
       "      <th>0</th>\n",
       "      <td>2025-05-20 00:00:00.416</td>\n",
       "      <td>DE_TRANSFORM</td>\n",
       "      <td>{'object_ids': [1652], 'sequence': 416}</td>\n",
       "      <td>{'number': 1, 'name': 'BigAl', 'color': 'Yello...</td>\n",
       "      <td>NaN</td>\n",
       "    </tr>\n",
       "    <tr>\n",
       "      <th>1</th>\n",
       "      <td>2025-05-20 00:00:00.416</td>\n",
       "      <td>DE_TRANSFORM</td>\n",
       "      <td>{'object_ids': [1652], 'sequence': 416}</td>\n",
       "      <td>1</td>\n",
       "      <td>NaN</td>\n",
       "    </tr>\n",
       "    <tr>\n",
       "      <th>2</th>\n",
       "      <td>2025-05-20 00:00:00.416</td>\n",
       "      <td>DE_TRANSFORM</td>\n",
       "      <td>{'object_ids': [1652], 'sequence': 416}</td>\n",
       "      <td>1</td>\n",
       "      <td>NaN</td>\n",
       "    </tr>\n",
       "    <tr>\n",
       "      <th>3</th>\n",
       "      <td>2025-05-20 00:00:00.416</td>\n",
       "      <td>GAME</td>\n",
       "      <td>{'command_id': 16, 'sequence': 416, 'command':...</td>\n",
       "      <td>{'number': 2, 'name': '&lt;NT&gt;.tornasol', 'color'...</td>\n",
       "      <td>NaN</td>\n",
       "    </tr>\n",
       "    <tr>\n",
       "      <th>4</th>\n",
       "      <td>2025-05-20 00:00:00.416</td>\n",
       "      <td>GAME</td>\n",
       "      <td>{'command_id': 19, 'sequence': 416, 'command':...</td>\n",
       "      <td>2</td>\n",
       "      <td>NaN</td>\n",
       "    </tr>\n",
       "  </tbody>\n",
       "</table>\n",
       "</div>"
      ],
      "text/plain": [
       "                timestamp          type  \\\n",
       "0 2025-05-20 00:00:00.416  DE_TRANSFORM   \n",
       "1 2025-05-20 00:00:00.416  DE_TRANSFORM   \n",
       "2 2025-05-20 00:00:00.416  DE_TRANSFORM   \n",
       "3 2025-05-20 00:00:00.416          GAME   \n",
       "4 2025-05-20 00:00:00.416          GAME   \n",
       "\n",
       "                                             payload  \\\n",
       "0            {'object_ids': [1652], 'sequence': 416}   \n",
       "1            {'object_ids': [1652], 'sequence': 416}   \n",
       "2            {'object_ids': [1652], 'sequence': 416}   \n",
       "3  {'command_id': 16, 'sequence': 416, 'command':...   \n",
       "4  {'command_id': 19, 'sequence': 416, 'command':...   \n",
       "\n",
       "                                              player position  \n",
       "0  {'number': 1, 'name': 'BigAl', 'color': 'Yello...      NaN  \n",
       "1                                                  1      NaN  \n",
       "2                                                  1      NaN  \n",
       "3  {'number': 2, 'name': '<NT>.tornasol', 'color'...      NaN  \n",
       "4                                                  2      NaN  "
      ]
     },
     "execution_count": 7,
     "metadata": {},
     "output_type": "execute_result"
    }
   ],
   "source": [
    "filename = \"./data/latest.aoe2record\"\n",
    "with open(filename, mode='rb') as in_file:\n",
    "    match = parse_match(in_file)\n",
    "    jsonFile = json.dumps(serialize(match.actions), indent=2)\n",
    "df = pd.read_json(jsonFile)\n",
    "df.head()"
   ]
  },
  {
   "cell_type": "code",
   "execution_count": 8,
   "metadata": {},
   "outputs": [
    {
     "name": "stdout",
     "output_type": "stream",
     "text": [
      "                                                               0\n",
      "get_chat       [{'type': Chat.MESSAGE, 'player_number': 1, 'm...\n",
      "get_completed                                               True\n",
      "get_dataset    {'id': 100, 'name': 'Definitive Edition', 'ver...\n",
      "get_device                                                     0\n",
      "get_diplomacy                {'type': '1v1', 'team_size': '1v1'}\n",
      "get_duration                                           2254804.0\n",
      "get_encoding                                               utf-8\n",
      "get_file_hash           07a68c5ee183e029c97c6b00cf4a00ae02ed5c5f\n",
      "get_hash               <sha1 _hashlib.HASH object @ 0x107523f30>\n",
      "get_language                                                  en\n",
      "get_map        {'id': 9, 'name': 'Arabia', 'size': 'Tiny', 'd...\n",
      "get_mirror                                                 False\n",
      "get_objects    {'objects': [{'object_id': 1358, 'instance_id'...\n",
      "get_owner                                                      2\n",
      "get_platform   {'platform_id': 'de', 'platform_match_id': 'ef...\n",
      "get_played                                          1747086871.0\n",
      "get_players    [{'name': 'BigAl', 'number': 1, 'civilization'...\n",
      "get_postgame                                                None\n",
      "get_restored                                        (False, 0.0)\n",
      "get_settings   {'type': (0, 'Random Map'), 'difficulty': (0, ...\n",
      "get_teams                                             [[1], [2]]\n",
      "get_version               (Version.DE, VER 9.4, 64.3, 5, 144358)\n"
     ]
    }
   ],
   "source": [
    "import pandas as pd\n",
    "from mgz.summary import Summary\n",
    "import inspect\n",
    "\n",
    "with open(filename, mode='rb') as data:\n",
    "    s = Summary(data)\n",
    "\n",
    "# Gather all get_* methods (excluding get_player_by_number etc.)\n",
    "methods = [name for name, func in inspect.getmembers(s, predicate=inspect.ismethod) if name.startswith('get_') and func.__code__.co_argcount == 1]\n",
    "\n",
    "# Build a dictionary of outputs\n",
    "summary_dict = {}\n",
    "for method in methods:\n",
    "    try:\n",
    "        summary_dict[method] = getattr(s, method)()\n",
    "    except Exception as e:\n",
    "        summary_dict[method] = f\"Error: {e}\"\n",
    "\n",
    "# Convert to DataFrame (one row)\n",
    "df_summary = pd.DataFrame([summary_dict])\n",
    "\n",
    "# Display or export\n",
    "print(df_summary.transpose())"
   ]
  },
  {
   "cell_type": "code",
   "execution_count": 9,
   "metadata": {},
   "outputs": [],
   "source": [
    "filename = \"./data/theviper.aoe2record\"\n",
    "with open(filename, mode='rb') as in_file:\n",
    "    match = parse_match(in_file)\n",
    "    jsonFile = json.dumps(serialize(match.actions), indent=2)"
   ]
  },
  {
   "cell_type": "code",
   "execution_count": null,
   "metadata": {},
   "outputs": [],
   "source": []
  }
 ],
 "metadata": {
  "kernelspec": {
   "display_name": "Python 3 (ipykernel)",
   "language": "python",
   "name": "python3"
  },
  "language_info": {
   "codemirror_mode": {
    "name": "ipython",
    "version": 3
   },
   "file_extension": ".py",
   "mimetype": "text/x-python",
   "name": "python",
   "nbconvert_exporter": "python",
   "pygments_lexer": "ipython3",
   "version": "3.12.2"
  }
 },
 "nbformat": 4,
 "nbformat_minor": 2
}
